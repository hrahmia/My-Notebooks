{
  "nbformat": 4,
  "nbformat_minor": 0,
  "metadata": {
    "colab": {
      "provenance": [],
      "authorship_tag": "ABX9TyPeo2DHlJdTow1wK2T4pWro",
      "include_colab_link": true
    },
    "kernelspec": {
      "name": "python3",
      "display_name": "Python 3"
    },
    "language_info": {
      "name": "python"
    }
  },
  "cells": [
    {
      "cell_type": "markdown",
      "metadata": {
        "id": "view-in-github",
        "colab_type": "text"
      },
      "source": [
        "<a href=\"https://colab.research.google.com/github/hrahmia/My-Notebooks/blob/main/Semi_Supervised_Classification.ipynb\" target=\"_parent\"><img src=\"https://colab.research.google.com/assets/colab-badge.svg\" alt=\"Open In Colab\"/></a>"
      ]
    },
    {
      "cell_type": "markdown",
      "source": [
        "#For this task, I will perform semi-supervised learning and will establish a baseline performance"
      ],
      "metadata": {
        "id": "uQWN8gC1QUEH"
      }
    },
    {
      "cell_type": "code",
      "source": [
        "import numpy as np\n",
        "import pandas as pd\n",
        "import sklearn as skl\n",
        "from sklearn.datasets import make_classification\n",
        "from sklearn.model_selection import train_test_split\n",
        "from sklearn.linear_model import LogisticRegression\n",
        "from sklearn.metrics import accuracy_score\n",
        "from sklearn.semi_supervised import LabelPropagation"
      ],
      "metadata": {
        "id": "FS_AyvdXRl8Y"
      },
      "execution_count": 73,
      "outputs": []
    },
    {
      "cell_type": "code",
      "source": [
        "# Defining the dataset\n",
        "X, y = make_classification(n_samples=1000, n_features=2, n_informative=2, n_redundant=0, random_state=1)"
      ],
      "metadata": {
        "id": "cEWorw2kQq54"
      },
      "execution_count": 19,
      "outputs": []
    },
    {
      "cell_type": "code",
      "source": [
        "# Spliting into train and test datasets\n",
        "X_train, X_test, y_train, y_test = train_test_split(X, y, test_size=0.50, random_state=1, stratify=y)"
      ],
      "metadata": {
        "id": "h1KA7qe1Qsv2"
      },
      "execution_count": 20,
      "outputs": []
    },
    {
      "cell_type": "code",
      "source": [
        "# printing the array and checking datatype\n",
        "#print('Array:', X_train)\n",
        "print('Datatype:', X_train.dtype)"
      ],
      "metadata": {
        "colab": {
          "base_uri": "https://localhost:8080/"
        },
        "id": "QF-59VQGTdIC",
        "outputId": "b38b6650-141a-4d92-c62c-65f91af128b7"
      },
      "execution_count": 30,
      "outputs": [
        {
          "output_type": "stream",
          "name": "stdout",
          "text": [
            "Datatype: float64\n"
          ]
        }
      ]
    },
    {
      "cell_type": "markdown",
      "source": [
        "### I will split the training dataset in half again into a portion that will have labels and a portion that we will pretend is unlabeled."
      ],
      "metadata": {
        "id": "-ebHmMyMUwjp"
      }
    },
    {
      "cell_type": "code",
      "source": [
        "# Splitting train set into labeled and unlabeled\n",
        "X_train_lab, X_test_unlab, y_train_lab, y_test_unlab = train_test_split(X_train, y_train,  test_size=0.50, random_state=1, stratify=y_train )"
      ],
      "metadata": {
        "id": "k7fhn70SVBNP"
      },
      "execution_count": 32,
      "outputs": []
    },
    {
      "cell_type": "code",
      "source": [
        "X_train_lab.shape"
      ],
      "metadata": {
        "colab": {
          "base_uri": "https://localhost:8080/"
        },
        "id": "9RGNKSNIdgJd",
        "outputId": "612b3ee0-439a-4196-e97a-92e5be54dda2"
      },
      "execution_count": 59,
      "outputs": [
        {
          "output_type": "execute_result",
          "data": {
            "text/plain": [
              "(250, 2)"
            ]
          },
          "metadata": {},
          "execution_count": 59
        }
      ]
    },
    {
      "cell_type": "code",
      "source": [
        "print(np.unique(y_train_lab))"
      ],
      "metadata": {
        "colab": {
          "base_uri": "https://localhost:8080/"
        },
        "id": "CWp0tOdQdvDi",
        "outputId": "4eb2cefc-0a35-4b80-aca8-f5a588e0211f"
      },
      "execution_count": 62,
      "outputs": [
        {
          "output_type": "stream",
          "name": "stdout",
          "text": [
            "[0 1]\n"
          ]
        }
      ]
    },
    {
      "cell_type": "code",
      "source": [
        "y_train.shape"
      ],
      "metadata": {
        "colab": {
          "base_uri": "https://localhost:8080/"
        },
        "id": "DyWhIq-SXMgL",
        "outputId": "1ec7d4e4-d7d2-425a-de8c-4b188195e7e7"
      },
      "execution_count": 38,
      "outputs": [
        {
          "output_type": "execute_result",
          "data": {
            "text/plain": [
              "(500,)"
            ]
          },
          "metadata": {},
          "execution_count": 38
        }
      ]
    },
    {
      "cell_type": "code",
      "source": [
        "unique, counts = np.unique(y_train, return_counts=True)\n",
        "print(unique)\n",
        "print(counts)"
      ],
      "metadata": {
        "colab": {
          "base_uri": "https://localhost:8080/"
        },
        "id": "8ItKEVUgYUHS",
        "outputId": "3c193ff1-90cc-471a-fb3c-8413443e05dd"
      },
      "execution_count": 51,
      "outputs": [
        {
          "output_type": "stream",
          "name": "stdout",
          "text": [
            "[0 1]\n",
            "[250 250]\n"
          ]
        }
      ]
    },
    {
      "cell_type": "markdown",
      "source": [
        "###I will use logistic regration\n"
      ],
      "metadata": {
        "id": "VZYwjDCScV1Z"
      }
    },
    {
      "cell_type": "code",
      "source": [
        "# Defining the Model\n",
        "model = LogisticRegression()"
      ],
      "metadata": {
        "id": "aXepl01dcQiU"
      },
      "execution_count": 57,
      "outputs": []
    },
    {
      "cell_type": "code",
      "source": [
        "# Fitting Model on Labeld Data\n",
        "model.fit(X_train_lab, y_train_lab)"
      ],
      "metadata": {
        "colab": {
          "base_uri": "https://localhost:8080/"
        },
        "id": "vEZpjRMPdCRg",
        "outputId": "9fb9e71a-3175-412b-a97c-1a84adf2b7bd"
      },
      "execution_count": 63,
      "outputs": [
        {
          "output_type": "execute_result",
          "data": {
            "text/plain": [
              "LogisticRegression()"
            ]
          },
          "metadata": {},
          "execution_count": 63
        }
      ]
    },
    {
      "cell_type": "code",
      "source": [
        "# Making Prediction on hold out test set\n",
        "yhat = model.predict(X_test)"
      ],
      "metadata": {
        "id": "_oaR5VPXeFWi"
      },
      "execution_count": 65,
      "outputs": []
    },
    {
      "cell_type": "code",
      "source": [
        "# Calculating the Score for test set\n",
        "score = accuracy_score(y_test, yhat)"
      ],
      "metadata": {
        "id": "BiorC6uFeIu4"
      },
      "execution_count": 70,
      "outputs": []
    },
    {
      "cell_type": "code",
      "source": [
        "print('Accuracy: %.3f' % (score*100))"
      ],
      "metadata": {
        "colab": {
          "base_uri": "https://localhost:8080/"
        },
        "id": "sU65oH_pe-md",
        "outputId": "72754c39-a62f-4de4-ac11-3f7da49b872e"
      },
      "execution_count": 72,
      "outputs": [
        {
          "output_type": "stream",
          "name": "stdout",
          "text": [
            "Accuracy: 84.800\n"
          ]
        }
      ]
    },
    {
      "cell_type": "markdown",
      "source": [
        "# Applying Label Probagation for Semi_Supervised Learning"
      ],
      "metadata": {
        "id": "hzb68dgmkP9S"
      }
    },
    {
      "cell_type": "code",
      "source": [
        "# Packages for Label Probagating\n",
        "\n",
        "from sklearn import LabelProbagation\n"
      ],
      "metadata": {
        "id": "fLNb591gpxcv"
      },
      "execution_count": 78,
      "outputs": []
    },
    {
      "cell_type": "code",
      "source": [
        "# Defining the Dataset\n",
        "X, y = make_classification(n_samples=1000, n_features=2, n_informative=2, n_redundant=0, random_state=1)"
      ],
      "metadata": {
        "id": "n7sj3vBtpxaY"
      },
      "execution_count": 99,
      "outputs": []
    },
    {
      "cell_type": "code",
      "source": [
        "X, y = make_classification(n_samples=1000, n_features=2, n_informative=2, n_redundant=0, random_state=1)"
      ],
      "metadata": {
        "id": "hf_jgN53sp9u"
      },
      "execution_count": 100,
      "outputs": []
    },
    {
      "cell_type": "code",
      "source": [
        "# Spliting Data into Train and Test Datasets\n",
        "X_Train, X_test, y_train, y_test = train_test_split(X, y, test_size=0.50, random_state=1, stratify=y)"
      ],
      "metadata": {
        "id": "OMFzHJcvpxXx"
      },
      "execution_count": 101,
      "outputs": []
    },
    {
      "cell_type": "code",
      "source": [
        "# Spliting into Labeled and Unlabeled Datasets\n",
        "X_train_lab, X_test_unlab, y_train_lab, y_test_unlab = train_test_split(X_train, y_train, test_size=0.50, random_state=1, stratify=y_train)"
      ],
      "metadata": {
        "id": "wAoRhnJnpxVG"
      },
      "execution_count": 102,
      "outputs": []
    },
    {
      "cell_type": "code",
      "source": [
        "from scipy.optimize.slsqp import concatenate\n",
        "## This part is unique - Double Parantheses!\n",
        "# Creating the Dataset Input\n",
        "X_train_mixed = concatenate((X_train_lab, X_test_unlab))"
      ],
      "metadata": {
        "id": "f4faldSkpxOR"
      },
      "execution_count": 103,
      "outputs": []
    },
    {
      "cell_type": "code",
      "source": [
        "y_test_unlab"
      ],
      "metadata": {
        "colab": {
          "base_uri": "https://localhost:8080/"
        },
        "id": "VcheO57xudCR",
        "outputId": "f335ccc9-d4fc-4124-948c-1b8e5df1349e"
      },
      "execution_count": 106,
      "outputs": [
        {
          "output_type": "execute_result",
          "data": {
            "text/plain": [
              "array([1, 0, 0, 1, 0, 0, 0, 1, 1, 0, 0, 1, 1, 0, 1, 1, 0, 1, 1, 0, 1, 1,\n",
              "       0, 1, 1, 1, 1, 1, 1, 1, 0, 1, 1, 0, 0, 1, 1, 0, 0, 0, 0, 0, 1, 0,\n",
              "       0, 0, 0, 1, 0, 1, 1, 0, 1, 0, 1, 1, 0, 0, 1, 1, 1, 0, 0, 0, 1, 1,\n",
              "       1, 1, 1, 1, 1, 0, 1, 1, 1, 0, 0, 0, 0, 0, 1, 0, 0, 1, 1, 1, 1, 0,\n",
              "       0, 1, 1, 1, 1, 0, 0, 1, 0, 0, 0, 0, 1, 0, 0, 1, 0, 1, 0, 0, 0, 0,\n",
              "       1, 1, 1, 1, 0, 1, 1, 1, 1, 1, 0, 0, 1, 0, 1, 0, 0, 0, 0, 0, 0, 0,\n",
              "       0, 0, 0, 0, 0, 0, 0, 0, 1, 0, 1, 0, 1, 1, 1, 0, 0, 1, 1, 1, 1, 1,\n",
              "       0, 1, 1, 1, 1, 1, 0, 1, 0, 1, 0, 1, 0, 1, 1, 1, 1, 0, 0, 1, 0, 1,\n",
              "       0, 0, 1, 1, 1, 0, 1, 1, 0, 0, 0, 0, 0, 1, 1, 0, 0, 0, 1, 1, 1, 0,\n",
              "       0, 0, 1, 1, 1, 0, 1, 1, 1, 0, 0, 1, 1, 0, 0, 1, 1, 0, 0, 0, 0, 1,\n",
              "       0, 0, 1, 0, 1, 0, 1, 0, 0, 0, 1, 1, 1, 0, 1, 0, 1, 0, 0, 0, 1, 0,\n",
              "       1, 1, 0, 0, 1, 1, 0, 0])"
            ]
          },
          "metadata": {},
          "execution_count": 106
        }
      ]
    },
    {
      "cell_type": "code",
      "source": [
        "## This part is unique\n",
        "# Creating \"no label\" for unlabeled data\n",
        "nolabel = [-1 for _ in range(len(y_test_unlab))]"
      ],
      "metadata": {
        "id": "F_V2C9wHt5Cm"
      },
      "execution_count": 109,
      "outputs": []
    },
    {
      "cell_type": "code",
      "source": [
        "y_train_lab"
      ],
      "metadata": {
        "colab": {
          "base_uri": "https://localhost:8080/"
        },
        "id": "ojAH_b29vR3n",
        "outputId": "ee930e1a-9367-4a90-fca8-b5e055e19ff5"
      },
      "execution_count": 113,
      "outputs": [
        {
          "output_type": "execute_result",
          "data": {
            "text/plain": [
              "array([0, 0, 1, 1, 0, 1, 1, 0, 0, 1, 1, 1, 0, 0, 0, 1, 0, 0, 0, 0, 0, 0,\n",
              "       0, 0, 0, 1, 0, 1, 1, 1, 0, 1, 0, 1, 0, 1, 0, 0, 1, 1, 1, 1, 1, 0,\n",
              "       0, 0, 0, 1, 1, 0, 1, 1, 1, 1, 1, 1, 0, 1, 0, 1, 0, 0, 1, 0, 0, 0,\n",
              "       0, 1, 1, 0, 1, 0, 1, 1, 0, 1, 1, 0, 1, 0, 1, 0, 0, 0, 1, 1, 0, 1,\n",
              "       0, 1, 1, 1, 0, 0, 0, 1, 1, 1, 0, 0, 1, 1, 1, 1, 0, 0, 1, 1, 0, 1,\n",
              "       0, 1, 1, 1, 1, 1, 0, 1, 0, 0, 1, 0, 1, 0, 0, 0, 0, 0, 0, 0, 0, 1,\n",
              "       1, 1, 0, 0, 1, 1, 0, 0, 1, 1, 0, 0, 0, 0, 1, 0, 1, 0, 0, 0, 0, 0,\n",
              "       1, 1, 0, 1, 1, 0, 0, 0, 1, 1, 0, 1, 1, 1, 0, 1, 0, 1, 0, 1, 1, 0,\n",
              "       0, 1, 1, 0, 1, 0, 1, 0, 1, 1, 1, 1, 1, 1, 0, 0, 0, 1, 1, 0, 0, 1,\n",
              "       1, 1, 1, 1, 0, 0, 1, 0, 0, 1, 0, 1, 0, 1, 1, 0, 1, 1, 0, 1, 1, 0,\n",
              "       0, 1, 0, 1, 1, 0, 1, 1, 0, 1, 1, 1, 0, 0, 0, 1, 0, 0, 1, 1, 0, 0,\n",
              "       0, 0, 0, 0, 1, 0, 0, 1])"
            ]
          },
          "metadata": {},
          "execution_count": 113
        }
      ]
    },
    {
      "cell_type": "code",
      "source": [
        "## This part is unique\n",
        "# Recombine the training dataset labels\n",
        "y_train_mixed = concatenate((y_train_lab, nolabel))"
      ],
      "metadata": {
        "id": "FbAH7HXJu7uX"
      },
      "execution_count": 141,
      "outputs": []
    },
    {
      "cell_type": "code",
      "source": [
        "y_train_mixed"
      ],
      "metadata": {
        "colab": {
          "base_uri": "https://localhost:8080/"
        },
        "id": "UEBtIXjau7j6",
        "outputId": "e363f93a-6775-4464-e123-cbbfb9968541"
      },
      "execution_count": 142,
      "outputs": [
        {
          "output_type": "execute_result",
          "data": {
            "text/plain": [
              "array([ 0,  0,  1,  1,  0,  1,  1,  0,  0,  1,  1,  1,  0,  0,  0,  1,  0,\n",
              "        0,  0,  0,  0,  0,  0,  0,  0,  1,  0,  1,  1,  1,  0,  1,  0,  1,\n",
              "        0,  1,  0,  0,  1,  1,  1,  1,  1,  0,  0,  0,  0,  1,  1,  0,  1,\n",
              "        1,  1,  1,  1,  1,  0,  1,  0,  1,  0,  0,  1,  0,  0,  0,  0,  1,\n",
              "        1,  0,  1,  0,  1,  1,  0,  1,  1,  0,  1,  0,  1,  0,  0,  0,  1,\n",
              "        1,  0,  1,  0,  1,  1,  1,  0,  0,  0,  1,  1,  1,  0,  0,  1,  1,\n",
              "        1,  1,  0,  0,  1,  1,  0,  1,  0,  1,  1,  1,  1,  1,  0,  1,  0,\n",
              "        0,  1,  0,  1,  0,  0,  0,  0,  0,  0,  0,  0,  1,  1,  1,  0,  0,\n",
              "        1,  1,  0,  0,  1,  1,  0,  0,  0,  0,  1,  0,  1,  0,  0,  0,  0,\n",
              "        0,  1,  1,  0,  1,  1,  0,  0,  0,  1,  1,  0,  1,  1,  1,  0,  1,\n",
              "        0,  1,  0,  1,  1,  0,  0,  1,  1,  0,  1,  0,  1,  0,  1,  1,  1,\n",
              "        1,  1,  1,  0,  0,  0,  1,  1,  0,  0,  1,  1,  1,  1,  1,  0,  0,\n",
              "        1,  0,  0,  1,  0,  1,  0,  1,  1,  0,  1,  1,  0,  1,  1,  0,  0,\n",
              "        1,  0,  1,  1,  0,  1,  1,  0,  1,  1,  1,  0,  0,  0,  1,  0,  0,\n",
              "        1,  1,  0,  0,  0,  0,  0,  0,  1,  0,  0,  1, -1, -1, -1, -1, -1,\n",
              "       -1, -1, -1, -1, -1, -1, -1, -1, -1, -1, -1, -1, -1, -1, -1, -1, -1,\n",
              "       -1, -1, -1, -1, -1, -1, -1, -1, -1, -1, -1, -1, -1, -1, -1, -1, -1,\n",
              "       -1, -1, -1, -1, -1, -1, -1, -1, -1, -1, -1, -1, -1, -1, -1, -1, -1,\n",
              "       -1, -1, -1, -1, -1, -1, -1, -1, -1, -1, -1, -1, -1, -1, -1, -1, -1,\n",
              "       -1, -1, -1, -1, -1, -1, -1, -1, -1, -1, -1, -1, -1, -1, -1, -1, -1,\n",
              "       -1, -1, -1, -1, -1, -1, -1, -1, -1, -1, -1, -1, -1, -1, -1, -1, -1,\n",
              "       -1, -1, -1, -1, -1, -1, -1, -1, -1, -1, -1, -1, -1, -1, -1, -1, -1,\n",
              "       -1, -1, -1, -1, -1, -1, -1, -1, -1, -1, -1, -1, -1, -1, -1, -1, -1,\n",
              "       -1, -1, -1, -1, -1, -1, -1, -1, -1, -1, -1, -1, -1, -1, -1, -1, -1,\n",
              "       -1, -1, -1, -1, -1, -1, -1, -1, -1, -1, -1, -1, -1, -1, -1, -1, -1,\n",
              "       -1, -1, -1, -1, -1, -1, -1, -1, -1, -1, -1, -1, -1, -1, -1, -1, -1,\n",
              "       -1, -1, -1, -1, -1, -1, -1, -1, -1, -1, -1, -1, -1, -1, -1, -1, -1,\n",
              "       -1, -1, -1, -1, -1, -1, -1, -1, -1, -1, -1, -1, -1, -1, -1, -1, -1,\n",
              "       -1, -1, -1, -1, -1, -1, -1, -1, -1, -1, -1, -1, -1, -1, -1, -1, -1,\n",
              "       -1, -1, -1, -1, -1, -1, -1])"
            ]
          },
          "metadata": {},
          "execution_count": 142
        }
      ]
    },
    {
      "cell_type": "code",
      "source": [
        "# Defining The Model\n",
        "model = LabelPropagation()"
      ],
      "metadata": {
        "id": "X-j5_v-vgARX"
      },
      "execution_count": 143,
      "outputs": []
    },
    {
      "cell_type": "code",
      "source": [
        "# Fitting Model on Trainig Dataset\n",
        "model.fit(X_train_mixed, y_train_mixed)"
      ],
      "metadata": {
        "colab": {
          "base_uri": "https://localhost:8080/"
        },
        "id": "OmMHHHFYkcH4",
        "outputId": "ca46cc18-a1b5-43e4-ea82-cd60900be63e"
      },
      "execution_count": 144,
      "outputs": [
        {
          "output_type": "execute_result",
          "data": {
            "text/plain": [
              "LabelPropagation()"
            ]
          },
          "metadata": {},
          "execution_count": 144
        }
      ]
    },
    {
      "cell_type": "code",
      "source": [
        "# Making Prediction on Hold Out Test Set\n",
        "yhat = model.predict(X_test)"
      ],
      "metadata": {
        "id": "Ve2KJ_KWwQix"
      },
      "execution_count": 145,
      "outputs": []
    },
    {
      "cell_type": "code",
      "source": [
        "# Calculating Score for Test Set\n",
        "score = accuracy_score(y_test, yhat)"
      ],
      "metadata": {
        "id": "iTtZlpeswQgh"
      },
      "execution_count": 146,
      "outputs": []
    },
    {
      "cell_type": "code",
      "source": [
        "# Summarizing Score\n",
        "print(f'Accuracy: %.3f ' % (score*100))"
      ],
      "metadata": {
        "colab": {
          "base_uri": "https://localhost:8080/"
        },
        "id": "X74-3KfXwQdq",
        "outputId": "10e8a126-5b9a-45cf-d6f5-f85aa3a41502"
      },
      "execution_count": 147,
      "outputs": [
        {
          "output_type": "stream",
          "name": "stdout",
          "text": [
            "Accuracy: 85.600 \n"
          ]
        }
      ]
    },
    {
      "cell_type": "code",
      "source": [],
      "metadata": {
        "id": "nRFYDP0O1UvS"
      },
      "execution_count": null,
      "outputs": []
    },
    {
      "cell_type": "markdown",
      "source": [
        "In the Example, The y_train_mixed data was not shuffled. Here i shuffled the Array"
      ],
      "metadata": {
        "id": "D2VjsL8f2aH4"
      }
    },
    {
      "cell_type": "code",
      "source": [],
      "metadata": {
        "id": "RQKyOXBM2ZeP"
      },
      "execution_count": null,
      "outputs": []
    },
    {
      "cell_type": "code",
      "source": [
        "# Defining The Model\n",
        "model = LabelPropagation()"
      ],
      "metadata": {
        "id": "_ErUb0amzFAw"
      },
      "execution_count": 134,
      "outputs": []
    },
    {
      "cell_type": "code",
      "source": [
        "# Shuffling \"y_train_mixed\" --> hra\n",
        "hra = np.take(y_train_mixed,np.random.permutation(y_train_mixed.shape[0]),axis=0,out=y_train_mixed)"
      ],
      "metadata": {
        "id": "_nV7Gf9AyCPq"
      },
      "execution_count": 133,
      "outputs": []
    },
    {
      "cell_type": "code",
      "source": [
        "hra"
      ],
      "metadata": {
        "colab": {
          "base_uri": "https://localhost:8080/"
        },
        "id": "IrCQ4AIK12Wg",
        "outputId": "c29eaf66-5518-4d18-f223-b98a349d157e"
      },
      "execution_count": 140,
      "outputs": [
        {
          "output_type": "execute_result",
          "data": {
            "text/plain": [
              "array([-1,  1, -1,  1,  0,  0, -1,  0,  0, -1,  0, -1, -1, -1, -1, -1,  0,\n",
              "       -1,  0, -1,  1,  1,  0,  1, -1, -1,  0,  1,  0, -1, -1, -1, -1,  0,\n",
              "        0, -1,  0,  0, -1, -1,  0, -1, -1, -1, -1, -1, -1,  1,  1,  0,  0,\n",
              "       -1,  1, -1, -1,  1, -1, -1,  1, -1, -1,  1, -1, -1, -1,  1,  0, -1,\n",
              "       -1, -1, -1,  0, -1, -1,  0, -1,  1,  0, -1, -1,  1, -1, -1, -1,  1,\n",
              "        1, -1, -1, -1, -1, -1,  0,  1, -1, -1, -1, -1, -1, -1,  0, -1,  0,\n",
              "        1,  1, -1,  0,  1,  1,  0,  0, -1,  0,  0,  1,  0, -1, -1, -1,  0,\n",
              "        1, -1,  1,  1, -1, -1,  0,  1,  1, -1, -1,  1,  1,  0, -1,  0, -1,\n",
              "       -1,  1,  1,  0,  1, -1,  0,  0, -1, -1, -1,  1, -1,  1, -1,  1, -1,\n",
              "       -1, -1, -1,  1, -1,  0,  0, -1,  0, -1, -1,  0,  0,  1,  0,  0, -1,\n",
              "       -1, -1,  1,  1, -1, -1, -1, -1,  1,  0,  1, -1,  0,  1,  1, -1, -1,\n",
              "       -1,  0, -1, -1, -1,  1, -1, -1, -1, -1,  1, -1, -1,  1,  1, -1,  0,\n",
              "        1, -1,  0,  0, -1,  0,  0,  1, -1, -1,  1,  0, -1,  0, -1,  1, -1,\n",
              "       -1,  0,  1, -1,  1,  0,  1, -1,  1,  1,  0,  0,  0,  1,  0, -1,  0,\n",
              "       -1, -1,  1,  0,  1,  0,  1, -1,  1, -1,  0, -1,  1,  1, -1,  0,  1,\n",
              "       -1, -1, -1, -1,  1, -1,  1,  0, -1,  0, -1, -1,  0,  0, -1,  1,  0,\n",
              "       -1,  0, -1, -1, -1, -1, -1, -1,  1,  1, -1,  1,  1, -1, -1, -1, -1,\n",
              "        0,  0, -1,  0, -1, -1, -1, -1, -1,  0,  0,  1, -1,  1,  0,  1,  0,\n",
              "       -1,  0, -1, -1,  0,  1, -1,  1, -1, -1, -1, -1, -1,  1,  0,  0,  1,\n",
              "       -1,  0, -1,  1,  0,  0,  0,  0, -1,  1, -1, -1, -1, -1,  0,  1, -1,\n",
              "       -1, -1,  1,  0,  1, -1,  1, -1, -1, -1, -1, -1, -1, -1,  1,  1,  1,\n",
              "        1, -1, -1, -1,  1, -1,  0, -1,  0, -1,  0,  1,  1,  1, -1, -1,  1,\n",
              "        0, -1,  1,  1, -1,  1, -1, -1,  1, -1, -1, -1, -1,  1,  1,  1,  1,\n",
              "        0,  0, -1, -1,  1, -1,  1,  1, -1,  0,  0,  0,  0,  1,  0, -1, -1,\n",
              "       -1,  1,  0, -1, -1, -1, -1, -1, -1, -1,  1,  0,  0, -1,  0,  1, -1,\n",
              "        0, -1,  1, -1, -1,  1, -1, -1, -1, -1, -1,  1,  1,  0, -1, -1, -1,\n",
              "        0, -1, -1,  0, -1, -1, -1,  1, -1, -1, -1, -1,  1,  1,  1, -1,  0,\n",
              "        1, -1, -1,  0, -1,  0, -1,  0,  1, -1, -1,  1,  0,  1,  1,  0, -1,\n",
              "        0,  0,  1, -1, -1,  1,  0,  0, -1, -1,  0,  0, -1,  0, -1,  0,  0,\n",
              "       -1,  1, -1, -1,  0, -1,  0])"
            ]
          },
          "metadata": {},
          "execution_count": 140
        }
      ]
    },
    {
      "cell_type": "code",
      "source": [
        "# Fitting Model on Trainig Dataset\n",
        "model.fit(X_train_mixed, hra)"
      ],
      "metadata": {
        "colab": {
          "base_uri": "https://localhost:8080/"
        },
        "id": "YqIlw3nvyCKr",
        "outputId": "ce32e829-dcf8-4fcd-bb22-eb55c4842ad4"
      },
      "execution_count": 136,
      "outputs": [
        {
          "output_type": "execute_result",
          "data": {
            "text/plain": [
              "LabelPropagation()"
            ]
          },
          "metadata": {},
          "execution_count": 136
        }
      ]
    },
    {
      "cell_type": "code",
      "source": [
        "# Making Prediction on Hold Out Test Set\n",
        "yhat = model.predict(X_test)"
      ],
      "metadata": {
        "id": "N1TEkkWDy8On"
      },
      "execution_count": 137,
      "outputs": []
    },
    {
      "cell_type": "code",
      "source": [
        "# Calculating Score for Test Set\n",
        "score = accuracy_score(y_test, yhat)"
      ],
      "metadata": {
        "id": "v3ZoZhbuy8ML"
      },
      "execution_count": 138,
      "outputs": []
    },
    {
      "cell_type": "code",
      "source": [
        "# Summarizing Score\n",
        "print(f'Accuracy: %.3f ' % (score*100))"
      ],
      "metadata": {
        "colab": {
          "base_uri": "https://localhost:8080/"
        },
        "id": "qOYYkTVZy8KA",
        "outputId": "97851e9c-c8c5-4a0f-b7e5-3c2b699c9dae"
      },
      "execution_count": 139,
      "outputs": [
        {
          "output_type": "stream",
          "name": "stdout",
          "text": [
            "Accuracy: 48.200 \n"
          ]
        }
      ]
    },
    {
      "cell_type": "markdown",
      "source": [
        "Another approach we can use with the semi-supervised model is to take the estimated labels for the training dataset and fit a supervised learning model."
      ],
      "metadata": {
        "id": "w-BKg2q72C1Z"
      }
    },
    {
      "cell_type": "code",
      "source": [
        "# define model\n",
        "model = LabelPropagation()\n",
        "# fit model on training dataset\n",
        "model.fit(X_train_mixed, y_train_mixed)\n",
        "# get labels for entire training dataset data\n",
        "tran_labels = model.transduction_\n",
        "# define supervised learning model\n",
        "model2 = LogisticRegression()\n",
        "# fit supervised learning model on entire training dataset\n",
        "model2.fit(X_train_mixed, tran_labels)\n",
        "# make predictions on hold out test set\n",
        "yhat = model2.predict(X_test)\n",
        "# calculate score for test set\n",
        "score = accuracy_score(y_test, yhat)\n",
        "# summarize score\n",
        "print('Accuracy: %.3f' % (score*100))"
      ],
      "metadata": {
        "colab": {
          "base_uri": "https://localhost:8080/"
        },
        "id": "adSnKZLY2yHd",
        "outputId": "2dd2b0f2-0b73-4eac-fc45-b9682831456e"
      },
      "execution_count": 148,
      "outputs": [
        {
          "output_type": "stream",
          "name": "stdout",
          "text": [
            "Accuracy: 86.200\n"
          ]
        }
      ]
    },
    {
      "cell_type": "markdown",
      "source": [
        "With shuffled array..."
      ],
      "metadata": {
        "id": "6GQXhF3v21hH"
      }
    },
    {
      "cell_type": "code",
      "source": [
        "# define model\n",
        "model = LabelPropagation()\n",
        "# fit model on training dataset\n",
        "model.fit(X_train_mixed, hra)\n",
        "# get labels for entire training dataset data\n",
        "tran_labels = model.transduction_\n",
        "# define supervised learning model\n",
        "model2 = LogisticRegression()\n",
        "# fit supervised learning model on entire training dataset\n",
        "model2.fit(X_train_mixed, tran_labels)\n",
        "# make predictions on hold out test set\n",
        "yhat = model2.predict(X_test)\n",
        "# calculate score for test set\n",
        "score = accuracy_score(y_test, yhat)\n",
        "# summarize score\n",
        "print('Accuracy: %.3f' % (score*100))"
      ],
      "metadata": {
        "colab": {
          "base_uri": "https://localhost:8080/"
        },
        "id": "AOFdwij224-Y",
        "outputId": "7b5abc5c-b3d8-4daa-9ba7-690c81a8571c"
      },
      "execution_count": 149,
      "outputs": [
        {
          "output_type": "stream",
          "name": "stdout",
          "text": [
            "Accuracy: 34.600\n"
          ]
        }
      ]
    }
  ]
}